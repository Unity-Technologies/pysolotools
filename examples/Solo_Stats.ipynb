{
 "cells": [
  {
   "cell_type": "code",
   "execution_count": 1,
   "id": "bf39a15f",
   "metadata": {},
   "outputs": [],
   "source": [
    "import matplotlib.pyplot as plt\n",
    "import seaborn as sns\n",
    "from pysolo.core.stats import SoloStats\n",
    "from pysolo.core.models.solo import BoundingBox2DAnnotationDefinition"
   ]
  },
  {
   "cell_type": "markdown",
   "id": "39290de5",
   "metadata": {},
   "source": [
    "## Initialize Stats"
   ]
  },
  {
   "cell_type": "code",
   "execution_count": 2,
   "id": "0f857902",
   "metadata": {},
   "outputs": [
    {
     "name": "stdout",
     "output_type": "stream",
     "text": [
      "DONE (t=0.00762s)\n"
     ]
    }
   ],
   "source": [
    "dataset_path = \"/Users/saurav.dhakad/Downloads/solo_1k_all_labelers\"\n",
    "stats = SoloStats(dataset_path)"
   ]
  },
  {
   "cell_type": "code",
   "execution_count": null,
   "id": "ec474026",
   "metadata": {},
   "outputs": [],
   "source": []
  },
  {
   "cell_type": "markdown",
   "id": "875a3f85",
   "metadata": {},
   "source": [
    "## Get Metadata"
   ]
  },
  {
   "cell_type": "code",
   "execution_count": 3,
   "id": "9faf08ab",
   "metadata": {},
   "outputs": [
    {
     "name": "stdout",
     "output_type": "stream",
     "text": [
      "Unity Version: 2020.3.34f1\n",
      "Total frames in the dataset: 1000\n"
     ]
    }
   ],
   "source": [
    "print(f\"Unity Version: {stats.solo.metadata.unityVersion}\")\n",
    "print(f\"Total frames in the dataset: {stats.solo.metadata.totalFrames}\")"
   ]
  },
  {
   "cell_type": "markdown",
   "id": "88dfbcc6",
   "metadata": {},
   "source": [
    "#### Categories"
   ]
  },
  {
   "cell_type": "code",
   "execution_count": 4,
   "id": "6a606bea",
   "metadata": {},
   "outputs": [
    {
     "data": {
      "text/plain": [
       "{1: 'Crate', 2: 'Cube', 3: 'Box', 4: 'Terrain', 5: 'Character'}"
      ]
     },
     "execution_count": 4,
     "metadata": {},
     "output_type": "execute_result"
    }
   ],
   "source": [
    "stats.get_categories()"
   ]
  },
  {
   "cell_type": "markdown",
   "id": "d7c882d9",
   "metadata": {},
   "source": [
    "## Statistics"
   ]
  },
  {
   "cell_type": "markdown",
   "id": "95cb8d90",
   "metadata": {},
   "source": [
    "### Number of bouding box"
   ]
  },
  {
   "cell_type": "code",
   "execution_count": 5,
   "id": "e7fd8a8e",
   "metadata": {},
   "outputs": [
    {
     "name": "stdout",
     "output_type": "stream",
     "text": [
      "Total number of bouding boxes: 3000\n"
     ]
    }
   ],
   "source": [
    "num_bbox = stats.get_num_bbox()\n",
    "print(f\"Total number of bouding boxes: {num_bbox}\")"
   ]
  },
  {
   "cell_type": "markdown",
   "id": "15e38bab",
   "metadata": {},
   "source": [
    "#### Number of bounding box by category"
   ]
  },
  {
   "cell_type": "code",
   "execution_count": 6,
   "id": "51bde4b8",
   "metadata": {},
   "outputs": [
    {
     "name": "stdout",
     "output_type": "stream",
     "text": [
      "Total number of bouding boxes of category [1]: 2000\n"
     ]
    }
   ],
   "source": [
    "cat_id = 1\n",
    "num_bbox = stats.get_num_bbox(cat_ids=[cat_id])\n",
    "print(f\"Total number of bouding boxes of category [{cat_id}]: {num_bbox}\")"
   ]
  },
  {
   "cell_type": "code",
   "execution_count": 7,
   "id": "c8c5fa06",
   "metadata": {},
   "outputs": [
    {
     "name": "stdout",
     "output_type": "stream",
     "text": [
      "Total number of bouding boxes of category [5]: 1000\n"
     ]
    }
   ],
   "source": [
    "cat_id = 5\n",
    "num_bbox = stats.get_num_bbox(cat_ids=[cat_id])\n",
    "print(f\"Total number of bouding boxes of category [{cat_id}]: {num_bbox}\")"
   ]
  },
  {
   "cell_type": "markdown",
   "id": "2cc194e3",
   "metadata": {},
   "source": [
    "### BBox per Image Distribution"
   ]
  },
  {
   "cell_type": "code",
   "execution_count": 4,
   "id": "a8b8f641",
   "metadata": {},
   "outputs": [],
   "source": [
    "bbox_dist = stats.get_bbox_per_img_dist()"
   ]
  },
  {
   "cell_type": "code",
   "execution_count": 5,
   "id": "3cbb76aa",
   "metadata": {},
   "outputs": [
    {
     "data": {
      "text/plain": [
       "{3: 1000}"
      ]
     },
     "execution_count": 5,
     "metadata": {},
     "output_type": "execute_result"
    }
   ],
   "source": [
    "bbox_dist"
   ]
  },
  {
   "cell_type": "code",
   "execution_count": 6,
   "id": "f32ee36c",
   "metadata": {},
   "outputs": [
    {
     "data": {
      "image/png": "[encoded data removed]",
      "text/plain": [
       "<Figure size 432x288 with 1 Axes>"
      ]
     },
     "metadata": {
      "needs_background": "light"
     },
     "output_type": "display_data"
    }
   ],
   "source": [
    "x, y = bbox_dist.keys(), bbox_dist.values()\n",
    "fig, ax = plt.subplots(1, 1)\n",
    "ax.bar(x, y, width=0.2)\n",
    "ax.set_xlim(1, 4)\n",
    "plt.xticks([0,1,2,3,4])\n",
    "plt.show()"
   ]
  },
  {
   "cell_type": "markdown",
   "id": "7f7a6083",
   "metadata": {},
   "source": [
    "### BBox Heatmap"
   ]
  },
  {
   "cell_type": "code",
   "execution_count": 4,
   "id": "c1a96de4",
   "metadata": {},
   "outputs": [],
   "source": [
    "bbox_hm = stats.get_bbox_heatmap()"
   ]
  },
  {
   "cell_type": "code",
   "execution_count": 5,
   "id": "dac91d9d",
   "metadata": {},
   "outputs": [
    {
     "data": {
      "image/png": "[encoded data removed]",
      "text/plain": [
       "<Figure size 800x800 with 1 Axes>"
      ]
     },
     "metadata": {
      "needs_background": "light"
     },
     "output_type": "display_data"
    }
   ],
   "source": [
    "bbox_heatmap_norm = bbox_hm / bbox_hm.max()\n",
    "fig, ax = plt.subplots(dpi=100, figsize=(8,8))\n",
    "pcm = ax.imshow(bbox_heatmap_norm[:,:,0], cmap=\"plasma\", )\n",
    "plt.show()"
   ]
  },
  {
   "cell_type": "markdown",
   "id": "48f6bf61",
   "metadata": {},
   "source": [
    "#### Heatmap by category"
   ]
  },
  {
   "cell_type": "code",
   "execution_count": 6,
   "id": "f2e4d598",
   "metadata": {},
   "outputs": [],
   "source": [
    "bbox_hm = stats.get_bbox_heatmap(cat_ids=[5])"
   ]
  },
  {
   "cell_type": "code",
   "execution_count": 7,
   "id": "ea1a7162",
   "metadata": {},
   "outputs": [
    {
     "data": {
      "image/png": "[encoded data removed]",
      "text/plain": [
       "<Figure size 800x800 with 1 Axes>"
      ]
     },
     "metadata": {
      "needs_background": "light"
     },
     "output_type": "display_data"
    }
   ],
   "source": [
    "bbox_heatmap_norm = bbox_hm / bbox_hm.max()\n",
    "fig, ax = plt.subplots(dpi=100, figsize=(8,8))\n",
    "pcm = ax.imshow(bbox_heatmap_norm[:,:,0], cmap=\"plasma\", )\n",
    "plt.show()"
   ]
  },
  {
   "cell_type": "markdown",
   "id": "7b583abe",
   "metadata": {},
   "source": [
    "### BBox Size Distribution"
   ]
  },
  {
   "cell_type": "code",
   "execution_count": 5,
   "id": "3a51e5ed",
   "metadata": {},
   "outputs": [],
   "source": [
    "size_dist = stats.get_bbox_size_dist()"
   ]
  },
  {
   "cell_type": "code",
   "execution_count": 6,
   "id": "94100396",
   "metadata": {},
   "outputs": [
    {
     "data": {
      "text/plain": [
       "<seaborn.axisgrid.FacetGrid at 0x7fcf52689040>"
      ]
     },
     "execution_count": 6,
     "metadata": {},
     "output_type": "execute_result"
    },
    {
     "data": {
      "image/png": "[encoded data removed]",
      "text/plain": [
       "<Figure size 360x360 with 1 Axes>"
      ]
     },
     "metadata": {
      "needs_background": "light"
     },
     "output_type": "display_data"
    }
   ],
   "source": [
    "sns.displot(size_dist, bins=10, kde=True)\n"
   ]
  },
  {
   "cell_type": "markdown",
   "id": "7354573c",
   "metadata": {},
   "source": [
    "#### BBox Size distribution by category"
   ]
  },
  {
   "cell_type": "code",
   "execution_count": 7,
   "id": "8cb39381",
   "metadata": {},
   "outputs": [],
   "source": [
    "size_dist = stats.get_bbox_size_dist(cat_ids=[5])"
   ]
  },
  {
   "cell_type": "code",
   "execution_count": 8,
   "id": "ad7db154",
   "metadata": {},
   "outputs": [
    {
     "data": {
      "text/plain": [
       "<seaborn.axisgrid.FacetGrid at 0x7fcf52e9f3a0>"
      ]
     },
     "execution_count": 8,
     "metadata": {},
     "output_type": "execute_result"
    },
    {
     "data": {
      "image/png": "[encoded data removed]",
      "text/plain": [
       "<Figure size 360x360 with 1 Axes>"
      ]
     },
     "metadata": {
      "needs_background": "light"
     },
     "output_type": "display_data"
    }
   ],
   "source": [
    "sns.displot(size_dist, bins=10, kde=True)"
   ]
  },
  {
   "cell_type": "code",
   "execution_count": null,
   "id": "f3351b95",
   "metadata": {},
   "outputs": [],
   "source": []
  }
 ],
 "metadata": {
  "kernelspec": {
   "display_name": "Python 3 (ipykernel)",
   "language": "python",
   "name": "python3"
  },
  "language_info": {
   "codemirror_mode": {
    "name": "ipython",
    "version": 3
   },
   "file_extension": ".py",
   "mimetype": "text/x-python",
   "name": "python",
   "nbconvert_exporter": "python",
   "pygments_lexer": "ipython3",
   "version": "3.9.12"
  }
 },
 "nbformat": 4,
 "nbformat_minor": 5
}
