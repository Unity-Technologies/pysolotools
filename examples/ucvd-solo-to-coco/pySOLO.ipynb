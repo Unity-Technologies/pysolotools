{
 "cells": [
  {
   "cell_type": "markdown",
   "source": [
    "#### Pre requisites\n",
    "\n",
    "We will install refinery which will also install unity-vision and refinery-tools for all operations\n",
    "\n",
    "refinery\n",
    "   ├── unity-vision\n",
    "   ├── refinery-tools\n",
    "\n"
   ],
   "metadata": {
    "collapsed": false
   }
  },
  {
   "cell_type": "code",
   "execution_count": null,
   "metadata": {
    "collapsed": true,
    "pycharm": {
     "is_executing": true
    }
   },
   "outputs": [],
   "source": [
    "!pip install refinery==0.0.5 --index-url=https://artifactory.prd.it.unity3d.com/artifactory/api/pypi/pypi/simple"
   ]
  },
  {
   "cell_type": "code",
   "execution_count": 3,
   "outputs": [],
   "source": [
    "import tarfile\n",
    "from pysolo.clients import UCVDClient\n",
    "from pysolo.consumers.solo.parser import Solo"
   ],
   "metadata": {
    "collapsed": false,
    "pycharm": {
     "name": "#%%\n"
    }
   }
  },
  {
   "cell_type": "markdown",
   "source": [],
   "metadata": {
    "collapsed": false
   }
  },
  {
   "cell_type": "code",
   "execution_count": 11,
   "outputs": [],
   "source": [
    "client = UCVDClient(\n",
    "    project_id=\"3e3b0fb5-50fe-4802-a9eb-db81bae8d185\",\n",
    "    org_id=\"1374969834147\",\n",
    "    sa_key=\"a5ba312e-e036-4f79-b0f5-16b18bf8c408\",\n",
    "    api_secret=\"Nzvy_DRa-clMH0iXZoi4VvCPtd2vrQsw\"\n",
    ")\n",
    "\n",
    "dest_dir=\"solo_dir\"\n",
    "dataset_id=\"803f11ec-cd02-4625-9a67-9b4b0aafca4b\"\n",
    "archive_name=\"Archive1.tar\""
   ],
   "metadata": {
    "collapsed": false,
    "pycharm": {
     "name": "#%%\n"
    }
   }
  },
  {
   "cell_type": "markdown",
   "source": [
    "Skip this step if you've already downloaded the dataset."
   ],
   "metadata": {
    "collapsed": false
   }
  },
  {
   "cell_type": "code",
   "execution_count": 12,
   "outputs": [],
   "source": [
    "\n",
    "archives = client.list_dataset_archives(dataset_id)\n",
    "client.download_dataset_archives(dataset_id=dataset_id, dest_dir=\"solo_dir\", skip_on_error=False)\n"
   ],
   "metadata": {
    "collapsed": false,
    "pycharm": {
     "name": "#%%\n"
    }
   }
  },
  {
   "cell_type": "markdown",
   "source": [
    "Extract the archives"
   ],
   "metadata": {
    "collapsed": false
   }
  },
  {
   "cell_type": "code",
   "execution_count": 23,
   "outputs": [],
   "source": [
    "# TODO: Add API to extract and inflate all archives to one dataset at solo/\n",
    "fName = f\"{dest_dir}/{archive_name}\"\n",
    "\n",
    "with tarfile.open(fName) as st:\n",
    "    st.extractall(dest_dir)"
   ],
   "metadata": {
    "collapsed": false,
    "pycharm": {
     "name": "#%%\n"
    }
   }
  },
  {
   "cell_type": "markdown",
   "source": [
    "Initialize Solo Dataset"
   ],
   "metadata": {
    "collapsed": false
   }
  },
  {
   "cell_type": "code",
   "execution_count": 16,
   "outputs": [
    {
     "name": "stdout",
     "output_type": "stream",
     "text": [
      "DONE (t=0.00152s)\n"
     ]
    }
   ],
   "source": [
    "solo = Solo(f\"{dest_dir}/solo\")"
   ],
   "metadata": {
    "collapsed": false,
    "pycharm": {
     "name": "#%%\n"
    }
   }
  },
  {
   "cell_type": "markdown",
   "source": [
    "Dataset Metadata"
   ],
   "metadata": {
    "collapsed": false
   }
  },
  {
   "cell_type": "code",
   "execution_count": 17,
   "outputs": [
    {
     "name": "stdout",
     "output_type": "stream",
     "text": [
      "Dataset Metadata !! \n",
      "DatasetMetadata(unityVersion='2020.3.19f1', perceptionVersion='0.8.0-preview.4', renderPipeline='HDRP', simulationStartTime='2/16/2022 7:02:22 PM', scenarioRandomSeed=539662000.0, scenarioActiveRandomizers=['AnimationRandomizer'], totalFrames=10, totalSequences=10, sensors=['camera'], metricCollectors=['scenario_iteration', 'random-seed'], simulationEndTime='2/16/2022 7:02:25 PM', annotators=[{'name': '8b3ef246-daa7-4dd5-a0e8-a943f6e7f8c2', 'type': 'type.unity.com/unity.solo.KeypointAnnotationDefinition'}, {'name': 'bounding box', 'type': 'type.unity.com/unity.solo.BoundingBoxAnnotationDefinition'}])\n"
     ]
    }
   ],
   "source": [
    "print(\"Dataset Metadata !! \")\n",
    "print(solo.get_metadata())"
   ],
   "metadata": {
    "collapsed": false,
    "pycharm": {
     "name": "#%%\n"
    }
   }
  },
  {
   "cell_type": "code",
   "execution_count": 18,
   "outputs": [
    {
     "name": "stdout",
     "output_type": "stream",
     "text": [
      "[[KeypointAnnotation(id='8b3ef246-daa7-4dd5-a0e8-a943f6e7f8c2', sensorId='camera', description='8b3ef246-daa7-4dd5-a0e8-a943f6e7f8c2', templateId='4a7b253a-334e-460c-bc81-3f4e2c4871c0', values=[KeypointLabel(instanceId=1, labelId=5)]), BoundingBox2DAnnotation(id='bounding box', sensorId='camera', description=\"Produces 2D bounding box annotations for all visible objects that bear a label defined in this labeler's associated label configuration.\", values=[BoundingBox2DLabel(instanceId=3, labelId=1, labelName='Crate', origin=[182.0, 204.0], dimension=[151.0, 128.0]), BoundingBox2DLabel(instanceId=1, labelId=5, labelName='Character', origin=[372.0, 158.0], dimension=[57.0, 225.0]), BoundingBox2DLabel(instanceId=2, labelId=1, labelName='Crate', origin=[515.0, 265.0], dimension=[155.0, 176.0])])]]\n",
      "[{'@type': 'type.unity.com/unity.solo.GenericMetric', 'id': 'scenario_iteration', 'sensorId': None, 'annotationId': None, 'description': 'Iteration information for dataset sequences', 'value': 0}, {'@type': 'type.unity.com/unity.solo.GenericMetric', 'id': 'random-seed', 'sensorId': None, 'annotationId': None, 'description': 'The random seed used to initialize the random state of the simulation. Only triggered once per simulation.', 'value': 539662031}]\n",
      "[[KeypointAnnotation(id='8b3ef246-daa7-4dd5-a0e8-a943f6e7f8c2', sensorId='camera', description='8b3ef246-daa7-4dd5-a0e8-a943f6e7f8c2', templateId='4a7b253a-334e-460c-bc81-3f4e2c4871c0', values=[KeypointLabel(instanceId=1, labelId=5)]), BoundingBox2DAnnotation(id='bounding box', sensorId='camera', description=\"Produces 2D bounding box annotations for all visible objects that bear a label defined in this labeler's associated label configuration.\", values=[BoundingBox2DLabel(instanceId=3, labelId=1, labelName='Crate', origin=[182.0, 204.0], dimension=[151.0, 128.0]), BoundingBox2DLabel(instanceId=1, labelId=5, labelName='Character', origin=[319.0, 149.0], dimension=[178.0, 226.0]), BoundingBox2DLabel(instanceId=2, labelId=1, labelName='Crate', origin=[515.0, 265.0], dimension=[156.0, 176.0])])]]\n",
      "[{'@type': 'type.unity.com/unity.solo.GenericMetric', 'id': 'scenario_iteration', 'sensorId': None, 'annotationId': None, 'description': 'Iteration information for dataset sequences', 'value': 1}, {'@type': 'type.unity.com/unity.solo.GenericMetric', 'id': 'random-seed', 'sensorId': None, 'annotationId': None, 'description': 'The random seed used to initialize the random state of the simulation. Only triggered once per simulation.', 'value': 539662031}]\n",
      "[[KeypointAnnotation(id='8b3ef246-daa7-4dd5-a0e8-a943f6e7f8c2', sensorId='camera', description='8b3ef246-daa7-4dd5-a0e8-a943f6e7f8c2', templateId='4a7b253a-334e-460c-bc81-3f4e2c4871c0', values=[KeypointLabel(instanceId=1, labelId=5)]), BoundingBox2DAnnotation(id='bounding box', sensorId='camera', description=\"Produces 2D bounding box annotations for all visible objects that bear a label defined in this labeler's associated label configuration.\", values=[BoundingBox2DLabel(instanceId=3, labelId=1, labelName='Crate', origin=[182.0, 204.0], dimension=[151.0, 128.0]), BoundingBox2DLabel(instanceId=1, labelId=5, labelName='Character', origin=[319.0, 149.0], dimension=[178.0, 226.0]), BoundingBox2DLabel(instanceId=2, labelId=1, labelName='Crate', origin=[514.0, 265.0], dimension=[159.0, 177.0])])]]\n",
      "[{'@type': 'type.unity.com/unity.solo.GenericMetric', 'id': 'scenario_iteration', 'sensorId': None, 'annotationId': None, 'description': 'Iteration information for dataset sequences', 'value': 2}, {'@type': 'type.unity.com/unity.solo.GenericMetric', 'id': 'random-seed', 'sensorId': None, 'annotationId': None, 'description': 'The random seed used to initialize the random state of the simulation. Only triggered once per simulation.', 'value': 539662031}]\n",
      "[[KeypointAnnotation(id='8b3ef246-daa7-4dd5-a0e8-a943f6e7f8c2', sensorId='camera', description='8b3ef246-daa7-4dd5-a0e8-a943f6e7f8c2', templateId='4a7b253a-334e-460c-bc81-3f4e2c4871c0', values=[KeypointLabel(instanceId=1, labelId=5)]), BoundingBox2DAnnotation(id='bounding box', sensorId='camera', description=\"Produces 2D bounding box annotations for all visible objects that bear a label defined in this labeler's associated label configuration.\", values=[BoundingBox2DLabel(instanceId=3, labelId=1, labelName='Crate', origin=[182.0, 204.0], dimension=[151.0, 128.0]), BoundingBox2DLabel(instanceId=1, labelId=5, labelName='Character', origin=[369.0, 159.0], dimension=[57.0, 222.0]), BoundingBox2DLabel(instanceId=2, labelId=1, labelName='Crate', origin=[514.0, 265.0], dimension=[160.0, 177.0])])]]\n",
      "[{'@type': 'type.unity.com/unity.solo.GenericMetric', 'id': 'scenario_iteration', 'sensorId': None, 'annotationId': None, 'description': 'Iteration information for dataset sequences', 'value': 3}, {'@type': 'type.unity.com/unity.solo.GenericMetric', 'id': 'random-seed', 'sensorId': None, 'annotationId': None, 'description': 'The random seed used to initialize the random state of the simulation. Only triggered once per simulation.', 'value': 539662031}]\n",
      "[[KeypointAnnotation(id='8b3ef246-daa7-4dd5-a0e8-a943f6e7f8c2', sensorId='camera', description='8b3ef246-daa7-4dd5-a0e8-a943f6e7f8c2', templateId='4a7b253a-334e-460c-bc81-3f4e2c4871c0', values=[KeypointLabel(instanceId=1, labelId=5)]), BoundingBox2DAnnotation(id='bounding box', sensorId='camera', description=\"Produces 2D bounding box annotations for all visible objects that bear a label defined in this labeler's associated label configuration.\", values=[BoundingBox2DLabel(instanceId=3, labelId=1, labelName='Crate', origin=[182.0, 204.0], dimension=[151.0, 128.0]), BoundingBox2DLabel(instanceId=1, labelId=5, labelName='Character', origin=[319.0, 149.0], dimension=[178.0, 226.0]), BoundingBox2DLabel(instanceId=2, labelId=1, labelName='Crate', origin=[513.0, 265.0], dimension=[162.0, 177.0])])]]\n",
      "[{'@type': 'type.unity.com/unity.solo.GenericMetric', 'id': 'scenario_iteration', 'sensorId': None, 'annotationId': None, 'description': 'Iteration information for dataset sequences', 'value': 4}, {'@type': 'type.unity.com/unity.solo.GenericMetric', 'id': 'random-seed', 'sensorId': None, 'annotationId': None, 'description': 'The random seed used to initialize the random state of the simulation. Only triggered once per simulation.', 'value': 539662031}]\n",
      "[[KeypointAnnotation(id='8b3ef246-daa7-4dd5-a0e8-a943f6e7f8c2', sensorId='camera', description='8b3ef246-daa7-4dd5-a0e8-a943f6e7f8c2', templateId='4a7b253a-334e-460c-bc81-3f4e2c4871c0', values=[KeypointLabel(instanceId=1, labelId=5)]), BoundingBox2DAnnotation(id='bounding box', sensorId='camera', description=\"Produces 2D bounding box annotations for all visible objects that bear a label defined in this labeler's associated label configuration.\", values=[BoundingBox2DLabel(instanceId=3, labelId=1, labelName='Crate', origin=[182.0, 204.0], dimension=[151.0, 128.0]), BoundingBox2DLabel(instanceId=1, labelId=5, labelName='Character', origin=[319.0, 149.0], dimension=[178.0, 226.0]), BoundingBox2DLabel(instanceId=2, labelId=1, labelName='Crate', origin=[513.0, 265.0], dimension=[163.0, 177.0])])]]\n",
      "[{'@type': 'type.unity.com/unity.solo.GenericMetric', 'id': 'scenario_iteration', 'sensorId': None, 'annotationId': None, 'description': 'Iteration information for dataset sequences', 'value': 5}, {'@type': 'type.unity.com/unity.solo.GenericMetric', 'id': 'random-seed', 'sensorId': None, 'annotationId': None, 'description': 'The random seed used to initialize the random state of the simulation. Only triggered once per simulation.', 'value': 539662031}]\n",
      "[[KeypointAnnotation(id='8b3ef246-daa7-4dd5-a0e8-a943f6e7f8c2', sensorId='camera', description='8b3ef246-daa7-4dd5-a0e8-a943f6e7f8c2', templateId='4a7b253a-334e-460c-bc81-3f4e2c4871c0', values=[KeypointLabel(instanceId=1, labelId=5)]), BoundingBox2DAnnotation(id='bounding box', sensorId='camera', description=\"Produces 2D bounding box annotations for all visible objects that bear a label defined in this labeler's associated label configuration.\", values=[BoundingBox2DLabel(instanceId=3, labelId=1, labelName='Crate', origin=[182.0, 204.0], dimension=[151.0, 128.0]), BoundingBox2DLabel(instanceId=1, labelId=5, labelName='Character', origin=[319.0, 149.0], dimension=[178.0, 226.0]), BoundingBox2DLabel(instanceId=2, labelId=1, labelName='Crate', origin=[512.0, 265.0], dimension=[165.0, 177.0])])]]\n",
      "[{'@type': 'type.unity.com/unity.solo.GenericMetric', 'id': 'scenario_iteration', 'sensorId': None, 'annotationId': None, 'description': 'Iteration information for dataset sequences', 'value': 6}, {'@type': 'type.unity.com/unity.solo.GenericMetric', 'id': 'random-seed', 'sensorId': None, 'annotationId': None, 'description': 'The random seed used to initialize the random state of the simulation. Only triggered once per simulation.', 'value': 539662031}]\n",
      "[[KeypointAnnotation(id='8b3ef246-daa7-4dd5-a0e8-a943f6e7f8c2', sensorId='camera', description='8b3ef246-daa7-4dd5-a0e8-a943f6e7f8c2', templateId='4a7b253a-334e-460c-bc81-3f4e2c4871c0', values=[KeypointLabel(instanceId=1, labelId=5)]), BoundingBox2DAnnotation(id='bounding box', sensorId='camera', description=\"Produces 2D bounding box annotations for all visible objects that bear a label defined in this labeler's associated label configuration.\", values=[BoundingBox2DLabel(instanceId=3, labelId=1, labelName='Crate', origin=[182.0, 204.0], dimension=[151.0, 128.0]), BoundingBox2DLabel(instanceId=1, labelId=5, labelName='Character', origin=[372.0, 158.0], dimension=[57.0, 225.0]), BoundingBox2DLabel(instanceId=2, labelId=1, labelName='Crate', origin=[512.0, 265.0], dimension=[166.0, 177.0])])]]\n",
      "[{'@type': 'type.unity.com/unity.solo.GenericMetric', 'id': 'scenario_iteration', 'sensorId': None, 'annotationId': None, 'description': 'Iteration information for dataset sequences', 'value': 7}, {'@type': 'type.unity.com/unity.solo.GenericMetric', 'id': 'random-seed', 'sensorId': None, 'annotationId': None, 'description': 'The random seed used to initialize the random state of the simulation. Only triggered once per simulation.', 'value': 539662031}]\n",
      "[[BoundingBox2DAnnotation(id='bounding box', sensorId='camera', description=\"Produces 2D bounding box annotations for all visible objects that bear a label defined in this labeler's associated label configuration.\", values=[BoundingBox2DLabel(instanceId=3, labelId=1, labelName='Crate', origin=[182.0, 204.0], dimension=[151.0, 128.0]), BoundingBox2DLabel(instanceId=1, labelId=5, labelName='Character', origin=[320.0, 149.0], dimension=[177.0, 225.0]), BoundingBox2DLabel(instanceId=2, labelId=1, labelName='Crate', origin=[511.0, 265.0], dimension=[168.0, 178.0])]), KeypointAnnotation(id='8b3ef246-daa7-4dd5-a0e8-a943f6e7f8c2', sensorId='camera', description='8b3ef246-daa7-4dd5-a0e8-a943f6e7f8c2', templateId='4a7b253a-334e-460c-bc81-3f4e2c4871c0', values=[KeypointLabel(instanceId=1, labelId=5)])]]\n",
      "[{'@type': 'type.unity.com/unity.solo.GenericMetric', 'id': 'scenario_iteration', 'sensorId': None, 'annotationId': None, 'description': 'Iteration information for dataset sequences', 'value': 8}, {'@type': 'type.unity.com/unity.solo.GenericMetric', 'id': 'random-seed', 'sensorId': None, 'annotationId': None, 'description': 'The random seed used to initialize the random state of the simulation. Only triggered once per simulation.', 'value': 539662031}]\n",
      "[[KeypointAnnotation(id='8b3ef246-daa7-4dd5-a0e8-a943f6e7f8c2', sensorId='camera', description='8b3ef246-daa7-4dd5-a0e8-a943f6e7f8c2', templateId='4a7b253a-334e-460c-bc81-3f4e2c4871c0', values=[KeypointLabel(instanceId=1, labelId=5)]), BoundingBox2DAnnotation(id='bounding box', sensorId='camera', description=\"Produces 2D bounding box annotations for all visible objects that bear a label defined in this labeler's associated label configuration.\", values=[BoundingBox2DLabel(instanceId=3, labelId=1, labelName='Crate', origin=[182.0, 204.0], dimension=[151.0, 128.0]), BoundingBox2DLabel(instanceId=1, labelId=5, labelName='Character', origin=[319.0, 149.0], dimension=[178.0, 226.0]), BoundingBox2DLabel(instanceId=2, labelId=1, labelName='Crate', origin=[511.0, 265.0], dimension=[169.0, 178.0])])]]\n",
      "[{'@type': 'type.unity.com/unity.solo.GenericMetric', 'id': 'scenario_iteration', 'sensorId': None, 'annotationId': None, 'description': 'Iteration information for dataset sequences', 'value': 9}, {'@type': 'type.unity.com/unity.solo.GenericMetric', 'id': 'random-seed', 'sensorId': None, 'annotationId': None, 'description': 'The random seed used to initialize the random state of the simulation. Only triggered once per simulation.', 'value': 539662031}]\n"
     ]
    }
   ],
   "source": [
    "while True:\n",
    "    try:\n",
    "        frame = next(solo)\n",
    "        annotations, metrics = [cap.annotations for cap in frame.captures], frame.metrics\n",
    "        print(annotations)\n",
    "        print(metrics)\n",
    "    except StopIteration:\n",
    "        break"
   ],
   "metadata": {
    "collapsed": false,
    "pycharm": {
     "name": "#%%\n"
    }
   }
  },
  {
   "cell_type": "code",
   "execution_count": 19,
   "outputs": [
    {
     "name": "stdout",
     "output_type": "stream",
     "text": [
      "Traceback (most recent call last):\r\n",
      "  File \"/Users/souranilsen/miniconda3/bin/refinery\", line 33, in <module>\r\n",
      "    sys.exit(load_entry_point('refinery==0.0.5', 'console_scripts', 'refinery')())\r\n",
      "  File \"/Users/souranilsen/miniconda3/bin/refinery\", line 25, in importlib_load_entry_point\r\n",
      "    return next(matches).load()\r\n",
      "  File \"/Users/souranilsen/miniconda3/lib/python3.8/importlib/metadata.py\", line 77, in load\r\n",
      "    module = import_module(match.group('module'))\r\n",
      "  File \"/Users/souranilsen/miniconda3/lib/python3.8/importlib/__init__.py\", line 127, in import_module\r\n",
      "    return _bootstrap._gcd_import(name[level:], package, level)\r\n",
      "  File \"<frozen importlib._bootstrap>\", line 1014, in _gcd_import\r\n",
      "  File \"<frozen importlib._bootstrap>\", line 991, in _find_and_load\r\n",
      "  File \"<frozen importlib._bootstrap>\", line 975, in _find_and_load_unlocked\r\n",
      "  File \"<frozen importlib._bootstrap>\", line 671, in _load_unlocked\r\n",
      "  File \"<frozen importlib._bootstrap_external>\", line 843, in exec_module\r\n",
      "  File \"<frozen importlib._bootstrap>\", line 219, in _call_with_frames_removed\r\n",
      "  File \"/Users/souranilsen/miniconda3/lib/python3.8/site-packages/refinery/framework/refinery_main.py\", line 4, in <module>\r\n",
      "    from refinery.framework.cloud_engine import CloudEngine\r\n",
      "  File \"/Users/souranilsen/miniconda3/lib/python3.8/site-packages/refinery/framework/cloud_engine.py\", line 7, in <module>\r\n",
      "    from google.cloud import compute_v1\r\n",
      "  File \"/Users/souranilsen/miniconda3/lib/python3.8/site-packages/google/cloud/compute_v1/__init__.py\", line 17, in <module>\r\n",
      "    from .services.accelerator_types import AcceleratorTypesClient\r\n",
      "  File \"/Users/souranilsen/miniconda3/lib/python3.8/site-packages/google/cloud/compute_v1/services/accelerator_types/__init__.py\", line 16, in <module>\r\n",
      "    from .client import AcceleratorTypesClient\r\n",
      "  File \"/Users/souranilsen/miniconda3/lib/python3.8/site-packages/google/cloud/compute_v1/services/accelerator_types/client.py\", line 24, in <module>\r\n",
      "    from google.api_core import gapic_v1\r\n",
      "  File \"/Users/souranilsen/miniconda3/lib/python3.8/site-packages/google/api_core/gapic_v1/__init__.py\", line 16, in <module>\r\n",
      "    from google.api_core.gapic_v1 import config\r\n",
      "  File \"/Users/souranilsen/miniconda3/lib/python3.8/site-packages/google/api_core/gapic_v1/config.py\", line 23, in <module>\r\n",
      "    import grpc\r\n",
      "  File \"/Users/souranilsen/miniconda3/lib/python3.8/site-packages/grpc/__init__.py\", line 22, in <module>\r\n",
      "    from grpc import _compression\r\n",
      "  File \"/Users/souranilsen/miniconda3/lib/python3.8/site-packages/grpc/_compression.py\", line 15, in <module>\r\n",
      "    from grpc._cython import cygrpc\r\n",
      "ImportError: dlopen(/Users/souranilsen/miniconda3/lib/python3.8/site-packages/grpc/_cython/cygrpc.cpython-38-darwin.so, 0x0002): symbol not found in flat namespace '_CFRelease'\r\n"
     ]
    }
   ],
   "source": [
    "!refinery local ./pipeline.yml"
   ],
   "metadata": {
    "collapsed": false,
    "pycharm": {
     "name": "#%%\n"
    }
   }
  },
  {
   "cell_type": "code",
   "execution_count": null,
   "outputs": [],
   "source": [],
   "metadata": {
    "collapsed": false,
    "pycharm": {
     "name": "#%%\n"
    }
   }
  }
 ],
 "metadata": {
  "kernelspec": {
   "display_name": "Python 3",
   "language": "python",
   "name": "python3"
  },
  "language_info": {
   "codemirror_mode": {
    "name": "ipython",
    "version": 2
   },
   "file_extension": ".py",
   "mimetype": "text/x-python",
   "name": "python",
   "nbconvert_exporter": "python",
   "pygments_lexer": "ipython2",
   "version": "2.7.6"
  }
 },
 "nbformat": 4,
 "nbformat_minor": 0
}