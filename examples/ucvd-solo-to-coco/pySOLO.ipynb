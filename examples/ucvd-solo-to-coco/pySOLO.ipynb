{
 "cells": [
  {
   "cell_type": "code",
   "execution_count": 35,
   "metadata": {
    "collapsed": true
   },
   "outputs": [
    {
     "name": "stdout",
     "output_type": "stream",
     "text": [
      "Looking in indexes: https://artifactory.prd.it.unity3d.com/artifactory/api/pypi/pypi/simple\r\n",
      "Collecting refinery==0.0.4\r\n",
      "  Downloading https://artifactory.prd.it.unity3d.com/artifactory/api/pypi/pypi/refinery/0.0.4/refinery-0.0.4-py3-none-any.whl (19 kB)\r\n",
      "Requirement already satisfied: google-cloud-storage>=2.2.1 in /Users/souranilsen/ai/computer-vision/unity-vision/venv/lib/python3.8/site-packages (from refinery==0.0.4) (2.3.0)\r\n",
      "Requirement already satisfied: pillow>=9.0 in /Users/souranilsen/ai/computer-vision/unity-vision/venv/lib/python3.8/site-packages (from refinery==0.0.4) (9.0.1)\r\n",
      "Requirement already satisfied: google-cloud-compute>=1.2.0 in /Users/souranilsen/ai/computer-vision/unity-vision/venv/lib/python3.8/site-packages (from refinery==0.0.4) (1.3.0)\r\n",
      "Requirement already satisfied: setuptools>=58.0.4 in /Users/souranilsen/ai/computer-vision/unity-vision/venv/lib/python3.8/site-packages (from refinery==0.0.4) (58.2.0)\r\n",
      "Requirement already satisfied: google-cloud>=0.34.0 in /Users/souranilsen/ai/computer-vision/unity-vision/venv/lib/python3.8/site-packages (from refinery==0.0.4) (0.34.0)\r\n",
      "Collecting unity-vision==0.2.7\r\n",
      "  Using cached https://artifactory.prd.it.unity3d.com/artifactory/api/pypi/pypi/unity_vision/0.2.7/unity_vision-0.2.7-py3-none-any.whl (16 kB)\r\n",
      "Requirement already satisfied: pyyaml>=6.0 in /Users/souranilsen/ai/computer-vision/unity-vision/venv/lib/python3.8/site-packages (from refinery==0.0.4) (6.0)\r\n",
      "Requirement already satisfied: tqdm~=4.62.3 in /Users/souranilsen/ai/computer-vision/unity-vision/venv/lib/python3.8/site-packages (from unity-vision==0.2.7->refinery==0.0.4) (4.62.3)\r\n",
      "Requirement already satisfied: dataclasses-json==0.5.7 in /Users/souranilsen/ai/computer-vision/unity-vision/venv/lib/python3.8/site-packages (from unity-vision==0.2.7->refinery==0.0.4) (0.5.7)\r\n",
      "Requirement already satisfied: ratelimit~=2.2.1 in /Users/souranilsen/ai/computer-vision/unity-vision/venv/lib/python3.8/site-packages (from unity-vision==0.2.7->refinery==0.0.4) (2.2.1)\r\n",
      "Requirement already satisfied: responses~=0.20.0 in /Users/souranilsen/ai/computer-vision/unity-vision/venv/lib/python3.8/site-packages (from unity-vision==0.2.7->refinery==0.0.4) (0.20.0)\r\n",
      "Requirement already satisfied: requests-toolbelt>=0.9.1 in /Users/souranilsen/ai/computer-vision/unity-vision/venv/lib/python3.8/site-packages (from unity-vision==0.2.7->refinery==0.0.4) (0.9.1)\r\n",
      "Requirement already satisfied: requests~=2.25.1 in /Users/souranilsen/ai/computer-vision/unity-vision/venv/lib/python3.8/site-packages (from unity-vision==0.2.7->refinery==0.0.4) (2.25.1)\r\n",
      "Requirement already satisfied: marshmallow<4.0.0,>=3.3.0 in /Users/souranilsen/ai/computer-vision/unity-vision/venv/lib/python3.8/site-packages (from dataclasses-json==0.5.7->unity-vision==0.2.7->refinery==0.0.4) (3.15.0)\r\n",
      "Requirement already satisfied: marshmallow-enum<2.0.0,>=1.5.1 in /Users/souranilsen/ai/computer-vision/unity-vision/venv/lib/python3.8/site-packages (from dataclasses-json==0.5.7->unity-vision==0.2.7->refinery==0.0.4) (1.5.1)\r\n",
      "Requirement already satisfied: typing-inspect>=0.4.0 in /Users/souranilsen/ai/computer-vision/unity-vision/venv/lib/python3.8/site-packages (from dataclasses-json==0.5.7->unity-vision==0.2.7->refinery==0.0.4) (0.7.1)\r\n",
      "Requirement already satisfied: google-api-core[grpc]<3.0.0dev,>=2.7.0 in /Users/souranilsen/ai/computer-vision/unity-vision/venv/lib/python3.8/site-packages (from google-cloud-compute>=1.2.0->refinery==0.0.4) (2.7.3)\r\n",
      "Requirement already satisfied: proto-plus>=1.19.7 in /Users/souranilsen/ai/computer-vision/unity-vision/venv/lib/python3.8/site-packages (from google-cloud-compute>=1.2.0->refinery==0.0.4) (1.20.3)\r\n",
      "Requirement already satisfied: googleapis-common-protos<2.0dev,>=1.52.0 in /Users/souranilsen/ai/computer-vision/unity-vision/venv/lib/python3.8/site-packages (from google-api-core[grpc]<3.0.0dev,>=2.7.0->google-cloud-compute>=1.2.0->refinery==0.0.4) (1.56.1)\r\n",
      "Requirement already satisfied: google-auth<3.0dev,>=1.25.0 in /Users/souranilsen/ai/computer-vision/unity-vision/venv/lib/python3.8/site-packages (from google-api-core[grpc]<3.0.0dev,>=2.7.0->google-cloud-compute>=1.2.0->refinery==0.0.4) (2.6.6)\r\n",
      "Requirement already satisfied: protobuf>=3.12.0 in /Users/souranilsen/ai/computer-vision/unity-vision/venv/lib/python3.8/site-packages (from google-api-core[grpc]<3.0.0dev,>=2.7.0->google-cloud-compute>=1.2.0->refinery==0.0.4) (3.20.1)\r\n",
      "Requirement already satisfied: grpcio-status<2.0dev,>=1.33.2 in /Users/souranilsen/ai/computer-vision/unity-vision/venv/lib/python3.8/site-packages (from google-api-core[grpc]<3.0.0dev,>=2.7.0->google-cloud-compute>=1.2.0->refinery==0.0.4) (1.46.1)\r\n",
      "Requirement already satisfied: grpcio<2.0dev,>=1.33.2 in /Users/souranilsen/ai/computer-vision/unity-vision/venv/lib/python3.8/site-packages (from google-api-core[grpc]<3.0.0dev,>=2.7.0->google-cloud-compute>=1.2.0->refinery==0.0.4) (1.46.1)\r\n",
      "Requirement already satisfied: pyasn1-modules>=0.2.1 in /Users/souranilsen/ai/computer-vision/unity-vision/venv/lib/python3.8/site-packages (from google-auth<3.0dev,>=1.25.0->google-api-core[grpc]<3.0.0dev,>=2.7.0->google-cloud-compute>=1.2.0->refinery==0.0.4) (0.2.8)\r\n",
      "Requirement already satisfied: six>=1.9.0 in /Users/souranilsen/ai/computer-vision/unity-vision/venv/lib/python3.8/site-packages (from google-auth<3.0dev,>=1.25.0->google-api-core[grpc]<3.0.0dev,>=2.7.0->google-cloud-compute>=1.2.0->refinery==0.0.4) (1.16.0)\r\n",
      "Requirement already satisfied: cachetools<6.0,>=2.0.0 in /Users/souranilsen/ai/computer-vision/unity-vision/venv/lib/python3.8/site-packages (from google-auth<3.0dev,>=1.25.0->google-api-core[grpc]<3.0.0dev,>=2.7.0->google-cloud-compute>=1.2.0->refinery==0.0.4) (5.1.0)\r\n",
      "Requirement already satisfied: rsa<5,>=3.1.4 in /Users/souranilsen/ai/computer-vision/unity-vision/venv/lib/python3.8/site-packages (from google-auth<3.0dev,>=1.25.0->google-api-core[grpc]<3.0.0dev,>=2.7.0->google-cloud-compute>=1.2.0->refinery==0.0.4) (4.8)\r\n",
      "Requirement already satisfied: google-resumable-media>=2.3.2 in /Users/souranilsen/ai/computer-vision/unity-vision/venv/lib/python3.8/site-packages (from google-cloud-storage>=2.2.1->refinery==0.0.4) (2.3.2)\r\n",
      "Requirement already satisfied: google-cloud-core<3.0dev,>=2.3.0 in /Users/souranilsen/ai/computer-vision/unity-vision/venv/lib/python3.8/site-packages (from google-cloud-storage>=2.2.1->refinery==0.0.4) (2.3.0)\r\n",
      "Requirement already satisfied: google-crc32c<2.0dev,>=1.0 in /Users/souranilsen/ai/computer-vision/unity-vision/venv/lib/python3.8/site-packages (from google-resumable-media>=2.3.2->google-cloud-storage>=2.2.1->refinery==0.0.4) (1.3.0)\r\n",
      "Requirement already satisfied: packaging in /Users/souranilsen/ai/computer-vision/unity-vision/venv/lib/python3.8/site-packages (from marshmallow<4.0.0,>=3.3.0->dataclasses-json==0.5.7->unity-vision==0.2.7->refinery==0.0.4) (21.3)\r\n",
      "Requirement already satisfied: pyasn1<0.5.0,>=0.4.6 in /Users/souranilsen/ai/computer-vision/unity-vision/venv/lib/python3.8/site-packages (from pyasn1-modules>=0.2.1->google-auth<3.0dev,>=1.25.0->google-api-core[grpc]<3.0.0dev,>=2.7.0->google-cloud-compute>=1.2.0->refinery==0.0.4) (0.4.8)\r\n",
      "Requirement already satisfied: urllib3<1.27,>=1.21.1 in /Users/souranilsen/ai/computer-vision/unity-vision/venv/lib/python3.8/site-packages (from requests~=2.25.1->unity-vision==0.2.7->refinery==0.0.4) (1.26.8)\r\n",
      "Requirement already satisfied: certifi>=2017.4.17 in /Users/souranilsen/ai/computer-vision/unity-vision/venv/lib/python3.8/site-packages (from requests~=2.25.1->unity-vision==0.2.7->refinery==0.0.4) (2021.10.8)\r\n",
      "Requirement already satisfied: chardet<5,>=3.0.2 in /Users/souranilsen/ai/computer-vision/unity-vision/venv/lib/python3.8/site-packages (from requests~=2.25.1->unity-vision==0.2.7->refinery==0.0.4) (4.0.0)\r\n",
      "Requirement already satisfied: idna<3,>=2.5 in /Users/souranilsen/ai/computer-vision/unity-vision/venv/lib/python3.8/site-packages (from requests~=2.25.1->unity-vision==0.2.7->refinery==0.0.4) (2.10)\r\n",
      "Requirement already satisfied: mypy-extensions>=0.3.0 in /Users/souranilsen/ai/computer-vision/unity-vision/venv/lib/python3.8/site-packages (from typing-inspect>=0.4.0->dataclasses-json==0.5.7->unity-vision==0.2.7->refinery==0.0.4) (0.4.3)\r\n",
      "Requirement already satisfied: typing-extensions>=3.7.4 in /Users/souranilsen/ai/computer-vision/unity-vision/venv/lib/python3.8/site-packages (from typing-inspect>=0.4.0->dataclasses-json==0.5.7->unity-vision==0.2.7->refinery==0.0.4) (4.0.1)\r\n",
      "Requirement already satisfied: pyparsing!=3.0.5,>=2.0.2 in /Users/souranilsen/ai/computer-vision/unity-vision/venv/lib/python3.8/site-packages (from packaging->marshmallow<4.0.0,>=3.3.0->dataclasses-json==0.5.7->unity-vision==0.2.7->refinery==0.0.4) (3.0.7)\r\n",
      "Installing collected packages: unity-vision, refinery\r\n",
      "  Attempting uninstall: unity-vision\r\n",
      "    Found existing installation: unity-vision 0.2.3\r\n",
      "    Not uninstalling unity-vision at /Users/souranilsen/ai/computer-vision/unity-vision, outside environment /Users/souranilsen/ai/computer-vision/unity-vision/venv\r\n",
      "    Can't uninstall 'unity-vision'. No files were found to uninstall.\r\n",
      "  Attempting uninstall: refinery\r\n",
      "    Found existing installation: refinery 0.0.3\r\n",
      "    Uninstalling refinery-0.0.3:\r\n",
      "      Successfully uninstalled refinery-0.0.3\r\n",
      "Successfully installed refinery-0.0.4 unity-vision-0.2.7\r\n",
      "\u001B[33mWARNING: You are using pip version 21.1.2; however, version 22.1 is available.\r\n",
      "You should consider upgrading via the '/Users/souranilsen/ai/computer-vision/unity-vision/venv/bin/python -m pip install --upgrade pip' command.\u001B[0m\r\n"
     ]
    }
   ],
   "source": [
    "!pip install refinery==0.0.4 --index-url=https://artifactory.prd.it.unity3d.com/artifactory/api/pypi/pypi/simple"
   ]
  },
  {
   "cell_type": "code",
   "execution_count": 36,
   "outputs": [],
   "source": [
    "from unity_vision.clients import UCVDClient\n",
    "from unity_vision.consumers.solo.parser import Solo"
   ],
   "metadata": {
    "collapsed": false,
    "pycharm": {
     "name": "#%%\n"
    }
   }
  },
  {
   "cell_type": "code",
   "execution_count": 37,
   "outputs": [],
   "source": [
    "client = UCVDClient(\n",
    "    project_id=\"3e3b0fb5-50fe-4802-a9eb-db81bae8d185\",\n",
    "    org_id=\"1374969834147\",\n",
    "    sa_key=\"a5ba312e-e036-4f79-b0f5-16b18bf8c408\",\n",
    "    api_secret=\"Nzvy_DRa-clMH0iXZoi4VvCPtd2vrQsw\"\n",
    ")\n",
    "\n",
    "dest_dir=\"solo_dir\"\n",
    "dataset_id=\"803f11ec-cd02-4625-9a67-9b4b0aafca4b\"\n"
   ],
   "metadata": {
    "collapsed": false,
    "pycharm": {
     "name": "#%%\n"
    }
   }
  },
  {
   "cell_type": "code",
   "execution_count": 38,
   "outputs": [],
   "source": [
    "\n",
    "archives = client.list_dataset_archives(dataset_id)\n",
    "client.download_dataset_archives(dataset_id=dataset_id, dest_dir=\"solo_dir\", skip_on_error=False)\n",
    "\n",
    "# TODO: Add API to extract and inflate all archives to one dataset at solo/"
   ],
   "metadata": {
    "collapsed": false,
    "pycharm": {
     "name": "#%%\n"
    }
   }
  },
  {
   "cell_type": "code",
   "execution_count": 39,
   "outputs": [
    {
     "name": "stdout",
     "output_type": "stream",
     "text": [
      "DONE (t=0.00025s)\n"
     ]
    }
   ],
   "source": [
    "solo = Solo(f\"{dest_dir}/solo\")"
   ],
   "metadata": {
    "collapsed": false,
    "pycharm": {
     "name": "#%%\n"
    }
   }
  },
  {
   "cell_type": "code",
   "execution_count": null,
   "outputs": [],
   "source": [
    "!refinery local ./pipeline.yml"
   ],
   "metadata": {
    "collapsed": false,
    "pycharm": {
     "name": "#%%\n",
     "is_executing": true
    }
   }
  }
 ],
 "metadata": {
  "kernelspec": {
   "display_name": "Python 3",
   "language": "python",
   "name": "python3"
  },
  "language_info": {
   "codemirror_mode": {
    "name": "ipython",
    "version": 2
   },
   "file_extension": ".py",
   "mimetype": "text/x-python",
   "name": "python",
   "nbconvert_exporter": "python",
   "pygments_lexer": "ipython2",
   "version": "2.7.6"
  }
 },
 "nbformat": 4,
 "nbformat_minor": 0
}