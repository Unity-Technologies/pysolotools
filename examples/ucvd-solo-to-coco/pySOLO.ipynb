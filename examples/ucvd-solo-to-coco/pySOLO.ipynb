{
 "cells": [
  {
   "cell_type": "markdown",
   "source": [
    "#### Pre requisites\n",
    "\n",
    "We will install refinery which will also install unity-vision and refinery-tools for all operations\n",
    "\n",
    "refinery\n",
    "   ├── unity-vision\n",
    "   ├── refinery-tools\n",
    "\n"
   ],
   "metadata": {
    "collapsed": false
   }
  },
  {
   "cell_type": "code",
   "execution_count": null,
   "metadata": {
    "collapsed": true,
    "pycharm": {
     "is_executing": true
    }
   },
   "outputs": [],
   "source": [
    "!pip install refinery==0.0.5 --index-url=https://artifactory.prd.it.unity3d.com/artifactory/api/pypi/pypi/simple"
   ]
  },
  {
   "cell_type": "code",
   "execution_count": 34,
   "outputs": [],
   "source": [
    "import tarfile\n",
    "from pysolo.clients import UCVDClient\n",
    "from pysolo.consumers.solo.parser import Solo"
   ],
   "metadata": {
    "collapsed": false,
    "pycharm": {
     "name": "#%%\n"
    }
   }
  },
  {
   "cell_type": "markdown",
   "source": [],
   "metadata": {
    "collapsed": false
   }
  },
  {
   "cell_type": "code",
   "execution_count": 35,
   "outputs": [],
   "source": [
    "client = UCVDClient(\n",
    "    project_id=\"3e3b0fb5-50fe-4802-a9eb-db81bae8d185\",\n",
    "    org_id=\"1374969834147\",\n",
    "    sa_key=\"a5ba312e-e036-4f79-b0f5-16b18bf8c408\",\n",
    "    api_secret=\"Nzvy_DRa-clMH0iXZoi4VvCPtd2vrQsw\"\n",
    ")\n",
    "\n",
    "dest_dir=\"solo_dir\"\n",
    "dataset_id=\"803f11ec-cd02-4625-9a67-9b4b0aafca4b\"\n",
    "archive_name=\"Archive1.tar\""
   ],
   "metadata": {
    "collapsed": false,
    "pycharm": {
     "name": "#%%\n"
    }
   }
  },
  {
   "cell_type": "markdown",
   "source": [
    "Skip this step if you've already downloaded the dataset."
   ],
   "metadata": {
    "collapsed": false
   }
  },
  {
   "cell_type": "code",
   "execution_count": 36,
   "outputs": [],
   "source": [
    "\n",
    "archives = client.list_dataset_archives(dataset_id)\n",
    "client.download_dataset_archives(dataset_id=dataset_id, dest_dir=\"solo_dir\", skip_on_error=False)\n"
   ],
   "metadata": {
    "collapsed": false,
    "pycharm": {
     "name": "#%%\n"
    }
   }
  },
  {
   "cell_type": "markdown",
   "source": [
    "Extract the archives"
   ],
   "metadata": {
    "collapsed": false
   }
  },
  {
   "cell_type": "code",
   "execution_count": 23,
   "outputs": [],
   "source": [
    "# TODO: Add API to extract and inflate all archives to one dataset at solo/\n",
    "fName = f\"{dest_dir}/{archive_name}\"\n",
    "\n",
    "with tarfile.open(fName) as st:\n",
    "    st.extractall(dest_dir)"
   ],
   "metadata": {
    "collapsed": false,
    "pycharm": {
     "name": "#%%\n"
    }
   }
  },
  {
   "cell_type": "markdown",
   "source": [
    "Initialize Solo Dataset"
   ],
   "metadata": {
    "collapsed": false
   }
  },
  {
   "cell_type": "code",
   "execution_count": null,
   "outputs": [],
   "source": [
    "solo = Solo(f\"{dest_dir}/solo\")"
   ],
   "metadata": {
    "collapsed": false,
    "pycharm": {
     "name": "#%%\n",
     "is_executing": true
    }
   }
  },
  {
   "cell_type": "markdown",
   "source": [
    "Dataset Metadata"
   ],
   "metadata": {
    "collapsed": false
   }
  },
  {
   "cell_type": "code",
   "execution_count": null,
   "outputs": [],
   "source": [
    "print(\"Dataset Metadata !! \")\n",
    "print(solo.get_metadata())"
   ],
   "metadata": {
    "collapsed": false,
    "pycharm": {
     "name": "#%%\n",
     "is_executing": true
    }
   }
  },
  {
   "cell_type": "code",
   "execution_count": null,
   "outputs": [],
   "source": [
    "while True:\n",
    "    try:\n",
    "        frame = next(solo)\n",
    "        annotations, metrics = [cap.annotations for cap in frame.captures], frame.metrics\n",
    "        print(annotations)\n",
    "        print(metrics)\n",
    "    except StopIteration:\n",
    "        break"
   ],
   "metadata": {
    "collapsed": false,
    "pycharm": {
     "name": "#%%\n",
     "is_executing": true
    }
   }
  },
  {
   "cell_type": "code",
   "execution_count": null,
   "outputs": [],
   "source": [
    "!refinery local ./pipeline.yml"
   ],
   "metadata": {
    "collapsed": false,
    "pycharm": {
     "name": "#%%\n",
     "is_executing": true
    }
   }
  },
  {
   "cell_type": "code",
   "execution_count": null,
   "outputs": [],
   "source": [],
   "metadata": {
    "collapsed": false,
    "pycharm": {
     "name": "#%%\n"
    }
   }
  }
 ],
 "metadata": {
  "kernelspec": {
   "display_name": "Python 3",
   "language": "python",
   "name": "python3"
  },
  "language_info": {
   "codemirror_mode": {
    "name": "ipython",
    "version": 2
   },
   "file_extension": ".py",
   "mimetype": "text/x-python",
   "name": "python",
   "nbconvert_exporter": "python",
   "pygments_lexer": "ipython2",
   "version": "2.7.6"
  }
 },
 "nbformat": 4,
 "nbformat_minor": 0
}